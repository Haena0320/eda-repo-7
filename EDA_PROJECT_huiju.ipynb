{
 "cells": [
  {
   "cell_type": "markdown",
   "metadata": {},
   "source": [
    "## EDA PROJECT\n",
    "### 1. 데이터 수집 "
   ]
  },
  {
   "cell_type": "markdown",
   "metadata": {},
   "source": [
    "### 1. 데이터 수집 \n",
    "- weekly data\n",
    "- Index(지수) Data(96.07.01 ~ 20.06.29)\n",
    "    - SP_Index(주식), Interm_Index(중기채), Long_Index(장기채), Commodity_Index(원자재), Gold_Index(금)\n",
    "- ETF(상품) Data(06.06.26 ~ 20.06.29)\n",
    "    - SPY(주식 ETF), IEF(중기채 ETF), TLT(장기채 ETF), DBC(원자재 ETF), GLD(금 ETF)"
   ]
  },
  {
   "cell_type": "code",
   "execution_count": 2,
   "metadata": {
    "scrolled": true
   },
   "outputs": [],
   "source": [
    "import pandas as pd\n",
    "# Index Data 수집\n",
    "\n",
    "sp_index = pd.read_csv(\"./data/S&P_Index.csv\")\n",
    "gold_index = pd.read_csv(\"./data/Gold_Index.csv\")\n",
    "commodity_index = pd.read_csv(\"./data/Commodity_Index.csv\")\n",
    "interm_index = pd.read_csv(\"./data/Intermediate_Term_Bond_Index.csv\")\n",
    "long_index = pd.read_csv(\"./data/Long_Term_Bond_Index.csv\")\n",
    "\n",
    "# ETF(상품) data 수집\n",
    "\n",
    "spy_etf = pd.read_csv(\"./data/SPY.csv\")\n",
    "gld_etf = pd.read_csv(\"./data/Gld.csv\")\n",
    "dbc_etf = pd.read_csv(\"./data/DBC.csv\")\n",
    "ief_etf = pd.read_csv(\"./data/IEF.csv\")\n",
    "tlt_etf = pd.read_csv(\"./data/TLT.csv\")"
   ]
  },
  {
   "cell_type": "markdown",
   "metadata": {},
   "source": [
    "### 2. 데이터 전처리"
   ]
  },
  {
   "cell_type": "code",
   "execution_count": 3,
   "metadata": {
    "scrolled": true
   },
   "outputs": [
    {
     "data": {
      "text/html": [
       "<div>\n",
       "<style scoped>\n",
       "    .dataframe tbody tr th:only-of-type {\n",
       "        vertical-align: middle;\n",
       "    }\n",
       "\n",
       "    .dataframe tbody tr th {\n",
       "        vertical-align: top;\n",
       "    }\n",
       "\n",
       "    .dataframe thead th {\n",
       "        text-align: right;\n",
       "    }\n",
       "</style>\n",
       "<table border=\"1\" class=\"dataframe\">\n",
       "  <thead>\n",
       "    <tr style=\"text-align: right;\">\n",
       "      <th></th>\n",
       "      <th>SP_Close</th>\n",
       "      <th>Long_Close</th>\n",
       "      <th>Interm_Close</th>\n",
       "      <th>Commodity_Close</th>\n",
       "      <th>Gold_Close</th>\n",
       "    </tr>\n",
       "    <tr>\n",
       "      <th>Date</th>\n",
       "      <th></th>\n",
       "      <th></th>\n",
       "      <th></th>\n",
       "      <th></th>\n",
       "      <th></th>\n",
       "    </tr>\n",
       "  </thead>\n",
       "  <tbody>\n",
       "    <tr>\n",
       "      <th>1996.7.1</th>\n",
       "      <td>657.44</td>\n",
       "      <td>9.41</td>\n",
       "      <td>10.07</td>\n",
       "      <td>207.88</td>\n",
       "      <td>382</td>\n",
       "    </tr>\n",
       "    <tr>\n",
       "      <th>1996.7.8</th>\n",
       "      <td>646.19</td>\n",
       "      <td>9.58</td>\n",
       "      <td>10.18</td>\n",
       "      <td>210.44</td>\n",
       "      <td>384</td>\n",
       "    </tr>\n",
       "    <tr>\n",
       "      <th>1996.7.15</th>\n",
       "      <td>638.73</td>\n",
       "      <td>9.64</td>\n",
       "      <td>10.22</td>\n",
       "      <td>198.54</td>\n",
       "      <td>385</td>\n",
       "    </tr>\n",
       "    <tr>\n",
       "      <th>1996.7.22</th>\n",
       "      <td>635.90</td>\n",
       "      <td>9.60</td>\n",
       "      <td>10.19</td>\n",
       "      <td>193.01</td>\n",
       "      <td>386</td>\n",
       "    </tr>\n",
       "    <tr>\n",
       "      <th>1996.7.29</th>\n",
       "      <td>662.49</td>\n",
       "      <td>9.87</td>\n",
       "      <td>10.38</td>\n",
       "      <td>200.48</td>\n",
       "      <td>388</td>\n",
       "    </tr>\n",
       "    <tr>\n",
       "      <th>...</th>\n",
       "      <td>...</td>\n",
       "      <td>...</td>\n",
       "      <td>...</td>\n",
       "      <td>...</td>\n",
       "      <td>...</td>\n",
       "    </tr>\n",
       "    <tr>\n",
       "      <th>2020.6.1</th>\n",
       "      <td>3193.93</td>\n",
       "      <td>14.93</td>\n",
       "      <td>12.03</td>\n",
       "      <td>325.54</td>\n",
       "      <td>1683</td>\n",
       "    </tr>\n",
       "    <tr>\n",
       "      <th>2020.6.8</th>\n",
       "      <td>3041.31</td>\n",
       "      <td>15.51</td>\n",
       "      <td>12.12</td>\n",
       "      <td>314.28</td>\n",
       "      <td>1737</td>\n",
       "    </tr>\n",
       "    <tr>\n",
       "      <th>2020.6.15</th>\n",
       "      <td>3097.74</td>\n",
       "      <td>15.51</td>\n",
       "      <td>12.13</td>\n",
       "      <td>327.64</td>\n",
       "      <td>1753</td>\n",
       "    </tr>\n",
       "    <tr>\n",
       "      <th>2020.6.22</th>\n",
       "      <td>3009.05</td>\n",
       "      <td>15.76</td>\n",
       "      <td>12.15</td>\n",
       "      <td>318.09</td>\n",
       "      <td>1780</td>\n",
       "    </tr>\n",
       "    <tr>\n",
       "      <th>2020.6.29</th>\n",
       "      <td>3130.01</td>\n",
       "      <td>15.72</td>\n",
       "      <td>12.16</td>\n",
       "      <td>332.86</td>\n",
       "      <td>1790</td>\n",
       "    </tr>\n",
       "  </tbody>\n",
       "</table>\n",
       "<p>1253 rows × 5 columns</p>\n",
       "</div>"
      ],
      "text/plain": [
       "           SP_Close  Long_Close  Interm_Close  Commodity_Close  Gold_Close\n",
       "Date                                                                      \n",
       "1996.7.1     657.44        9.41         10.07           207.88         382\n",
       "1996.7.8     646.19        9.58         10.18           210.44         384\n",
       "1996.7.15    638.73        9.64         10.22           198.54         385\n",
       "1996.7.22    635.90        9.60         10.19           193.01         386\n",
       "1996.7.29    662.49        9.87         10.38           200.48         388\n",
       "...             ...         ...           ...              ...         ...\n",
       "2020.6.1    3193.93       14.93         12.03           325.54        1683\n",
       "2020.6.8    3041.31       15.51         12.12           314.28        1737\n",
       "2020.6.15   3097.74       15.51         12.13           327.64        1753\n",
       "2020.6.22   3009.05       15.76         12.15           318.09        1780\n",
       "2020.6.29   3130.01       15.72         12.16           332.86        1790\n",
       "\n",
       "[1253 rows x 5 columns]"
      ]
     },
     "execution_count": 3,
     "metadata": {},
     "output_type": "execute_result"
    }
   ],
   "source": [
    "# index df\n",
    "\n",
    "closes_df = pd.DataFrame({'Date' : sp_index[\"Date\"].copy(),\n",
    "                          'SP_Close' : sp_index[\"Close\"].copy(),\n",
    "                          'Long_Close' : long_index[\"Close\"].copy(),\n",
    "                          'Interm_Close' : interm_index[\"Close\"].copy(),\n",
    "                          'Commodity_Close' : commodity_index[\"Close\"].copy(),\n",
    "                          'Gold_Close' : gold_index[\"Close\"].copy()}).round(2)\n",
    "\n",
    "closes_df = closes_df.set_index('Date')\n",
    "\n",
    "closes_df"
   ]
  },
  {
   "cell_type": "code",
   "execution_count": 4,
   "metadata": {},
   "outputs": [
    {
     "data": {
      "text/html": [
       "<div>\n",
       "<style scoped>\n",
       "    .dataframe tbody tr th:only-of-type {\n",
       "        vertical-align: middle;\n",
       "    }\n",
       "\n",
       "    .dataframe tbody tr th {\n",
       "        vertical-align: top;\n",
       "    }\n",
       "\n",
       "    .dataframe thead th {\n",
       "        text-align: right;\n",
       "    }\n",
       "</style>\n",
       "<table border=\"1\" class=\"dataframe\">\n",
       "  <thead>\n",
       "    <tr style=\"text-align: right;\">\n",
       "      <th></th>\n",
       "      <th>SP_Close</th>\n",
       "      <th>Long_Close</th>\n",
       "      <th>Interm_Close</th>\n",
       "      <th>Commodity_Close</th>\n",
       "      <th>Gold_Close</th>\n",
       "    </tr>\n",
       "    <tr>\n",
       "      <th>Date</th>\n",
       "      <th></th>\n",
       "      <th></th>\n",
       "      <th></th>\n",
       "      <th></th>\n",
       "      <th></th>\n",
       "    </tr>\n",
       "  </thead>\n",
       "  <tbody>\n",
       "    <tr>\n",
       "      <th>1996.7.1</th>\n",
       "      <td>0.000000</td>\n",
       "      <td>0.000000</td>\n",
       "      <td>0.000000</td>\n",
       "      <td>0.000000</td>\n",
       "      <td>0.000000</td>\n",
       "    </tr>\n",
       "    <tr>\n",
       "      <th>1996.7.8</th>\n",
       "      <td>-0.017112</td>\n",
       "      <td>0.018066</td>\n",
       "      <td>0.010924</td>\n",
       "      <td>0.012315</td>\n",
       "      <td>0.005236</td>\n",
       "    </tr>\n",
       "    <tr>\n",
       "      <th>1996.7.15</th>\n",
       "      <td>-0.028459</td>\n",
       "      <td>0.024442</td>\n",
       "      <td>0.014896</td>\n",
       "      <td>-0.044930</td>\n",
       "      <td>0.007853</td>\n",
       "    </tr>\n",
       "    <tr>\n",
       "      <th>1996.7.22</th>\n",
       "      <td>-0.032763</td>\n",
       "      <td>0.020191</td>\n",
       "      <td>0.011917</td>\n",
       "      <td>-0.071532</td>\n",
       "      <td>0.010471</td>\n",
       "    </tr>\n",
       "    <tr>\n",
       "      <th>1996.7.29</th>\n",
       "      <td>0.007681</td>\n",
       "      <td>0.048884</td>\n",
       "      <td>0.030785</td>\n",
       "      <td>-0.035597</td>\n",
       "      <td>0.015707</td>\n",
       "    </tr>\n",
       "    <tr>\n",
       "      <th>...</th>\n",
       "      <td>...</td>\n",
       "      <td>...</td>\n",
       "      <td>...</td>\n",
       "      <td>...</td>\n",
       "      <td>...</td>\n",
       "    </tr>\n",
       "    <tr>\n",
       "      <th>2020.6.1</th>\n",
       "      <td>3.858132</td>\n",
       "      <td>0.586610</td>\n",
       "      <td>0.194638</td>\n",
       "      <td>0.566000</td>\n",
       "      <td>3.405759</td>\n",
       "    </tr>\n",
       "    <tr>\n",
       "      <th>2020.6.8</th>\n",
       "      <td>3.625989</td>\n",
       "      <td>0.648247</td>\n",
       "      <td>0.203575</td>\n",
       "      <td>0.511834</td>\n",
       "      <td>3.547120</td>\n",
       "    </tr>\n",
       "    <tr>\n",
       "      <th>2020.6.15</th>\n",
       "      <td>3.711822</td>\n",
       "      <td>0.648247</td>\n",
       "      <td>0.204568</td>\n",
       "      <td>0.576102</td>\n",
       "      <td>3.589005</td>\n",
       "    </tr>\n",
       "    <tr>\n",
       "      <th>2020.6.22</th>\n",
       "      <td>3.576920</td>\n",
       "      <td>0.674814</td>\n",
       "      <td>0.206554</td>\n",
       "      <td>0.530162</td>\n",
       "      <td>3.659686</td>\n",
       "    </tr>\n",
       "    <tr>\n",
       "      <th>2020.6.29</th>\n",
       "      <td>3.760906</td>\n",
       "      <td>0.670563</td>\n",
       "      <td>0.207547</td>\n",
       "      <td>0.601212</td>\n",
       "      <td>3.685864</td>\n",
       "    </tr>\n",
       "  </tbody>\n",
       "</table>\n",
       "<p>1253 rows × 5 columns</p>\n",
       "</div>"
      ],
      "text/plain": [
       "           SP_Close  Long_Close  Interm_Close  Commodity_Close  Gold_Close\n",
       "Date                                                                      \n",
       "1996.7.1   0.000000    0.000000      0.000000         0.000000    0.000000\n",
       "1996.7.8  -0.017112    0.018066      0.010924         0.012315    0.005236\n",
       "1996.7.15 -0.028459    0.024442      0.014896        -0.044930    0.007853\n",
       "1996.7.22 -0.032763    0.020191      0.011917        -0.071532    0.010471\n",
       "1996.7.29  0.007681    0.048884      0.030785        -0.035597    0.015707\n",
       "...             ...         ...           ...              ...         ...\n",
       "2020.6.1   3.858132    0.586610      0.194638         0.566000    3.405759\n",
       "2020.6.8   3.625989    0.648247      0.203575         0.511834    3.547120\n",
       "2020.6.15  3.711822    0.648247      0.204568         0.576102    3.589005\n",
       "2020.6.22  3.576920    0.674814      0.206554         0.530162    3.659686\n",
       "2020.6.29  3.760906    0.670563      0.207547         0.601212    3.685864\n",
       "\n",
       "[1253 rows x 5 columns]"
      ]
     },
     "execution_count": 4,
     "metadata": {},
     "output_type": "execute_result"
    }
   ],
   "source": [
    "# 수익률 df\n",
    "\n",
    "index_return = (closes_df - closes_df.iloc[0]) / closes_df.iloc[0] \n",
    "index_return"
   ]
  },
  {
   "cell_type": "code",
   "execution_count": 27,
   "metadata": {},
   "outputs": [
    {
     "data": {
      "image/png": "[encoded data removed]",
      "text/plain": [
       "<Figure size 432x288 with 1 Axes>"
      ]
     },
     "metadata": {
      "needs_background": "light"
     },
     "output_type": "display_data"
    }
   ],
   "source": [
    "from matplotlib import pyplot as plt\n",
    "\n",
    "x_values = index_return.index\n",
    "y_values_1 = index_return.SP_Close\n",
    "y_values_2 = index_return.Long_Close\n",
    "y_values_3 = index_return.Long_Close\n",
    "y_values_4 = index_return.Commodity_Close\n",
    "y_values_5 = index_return.Gold_Close\n",
    "\n",
    "plt.plot(x_values, y_values_1)\n",
    "plt.plot(x_values, y_values_2)\n",
    "plt.plot(x_values, y_values_3)\n",
    "plt.plot(x_values, y_values_4)\n",
    "plt.plot(x_values, y_values_5)\n",
    "\n",
    "plt.show()"
   ]
  },
  {
   "cell_type": "code",
   "execution_count": 29,
   "metadata": {},
   "outputs": [
    {
     "data": {
      "image/png": "[encoded data removed]",
      "text/plain": [
       "<Figure size 432x288 with 1 Axes>"
      ]
     },
     "metadata": {
      "needs_background": "light"
     },
     "output_type": "display_data"
    }
   ],
   "source": [
    "# 코드 깔끔한데 5개 동시에 돌리면 에러남\n",
    "# 그래프 크기 크게 하기.\n",
    "# http://hleecaster.com/python-matplotlib-line-graph/\n",
    "# x 축 설정\n",
    "# 라벨이 안나옴 ... 왜??\n",
    "from matplotlib import pyplot as plt\n",
    "plt.plot(index_return.index,index_return.SP_Close, label = \"주식\")\n",
    "\n",
    "plt.show()"
   ]
  },
  {
   "cell_type": "markdown",
   "metadata": {},
   "source": [
    "#### Index 추종 포트폴리오 구성\n",
    "- Portfolio_1 : 주식 100%\n",
    "- Portfolio_2 : 주식 60% + 장기채 40%\n",
    "- All_Weather : 주식 30% + 장기채 40% + 중기채 15% + 원자재 7.5% + 금 7.5%"
   ]
  },
  {
   "cell_type": "markdown",
   "metadata": {},
   "source": [
    "### 포트폴리오 구성\n",
    "- index df에 가중치를 주어 index 포트폴리오를 구성한다.\n",
    "- 96.07.01일 기준 $ 1,000 를 투자한다고 가정"
   ]
  },
  {
   "cell_type": "code",
   "execution_count": 5,
   "metadata": {},
   "outputs": [],
   "source": [
    "from matplotlib import pyplot as plt\n",
    "%matplotlib inline"
   ]
  },
  {
   "cell_type": "code",
   "execution_count": 6,
   "metadata": {},
   "outputs": [],
   "source": [
    "def port_return(sp_index_weight, long_index_weight, interm_index_weight, commodity_index_weight, gold_index_weight): \n",
    "       \n",
    "    portfolio_return = (closes_df * \n",
    "                          [sp_index_weight, long_index_weight,interm_index_weight,\n",
    "                           commodity_index_weight, gold_index_weight]).sum(axis=1)"
   ]
  },
  {
   "cell_type": "code",
   "execution_count": 8,
   "metadata": {},
   "outputs": [],
   "source": [
    "result1 = port_return(1, 0, 0, 0, 0)\n",
    "result2 = port_return(0.6, 0.4, 0, 0, 0)\n",
    "result3 = port_return(0.3, 0.4, 0.15, 0.075, 0.075)\n",
    "# port_return 함수 다시 설정하고 $1000부터 시작하도록 하기"
   ]
  },
  {
   "cell_type": "code",
   "execution_count": 276,
   "metadata": {},
   "outputs": [],
   "source": [
    "# 참고자료\n",
    "\n",
    "# def port_return(sp_index_weight, long_index_weight, interm_index_weight, commodity_index_weight, gold_index_weight): \n",
    "    \n",
    "#     pct_return = (closes_df - closes_df.iloc[0]) / closes_df.iloc[0]\n",
    "#     pct_return.columns = [\"Stock100%\", \"Stock 60% + Bond 40%\", \"All Weather\"] \n",
    "   \n",
    "#     portfolio_return = (pct_return * \n",
    "#                           [sp_index_weight, long_index_weight,interm_index_weight,\n",
    "#                            commodity_index_weight, gold_index_weight]).sum(axis=1)\n",
    "\n",
    "#     portfolio_return.plot(label='Portfolio'); \n",
    "    \n",
    "#     plt.legend()"
   ]
  },
  {
   "cell_type": "code",
   "execution_count": 278,
   "metadata": {},
   "outputs": [],
   "source": [
    "# Portfolio_1 = sp_index\n",
    "# Portfolio_2 = sp_index*0.6 + long_index*0.4\n",
    "# Portfolio_3 = sp_index*0.3 + long_index*0.4 + interm_index*0.15 + commodity_index*0.075 + gold_index*0.075 "
   ]
  },
  {
   "cell_type": "code",
   "execution_count": 9,
   "metadata": {},
   "outputs": [
    {
     "data": {
      "image/png": "[encoded data removed]",
      "text/plain": [
       "<Figure size 432x288 with 1 Axes>"
      ]
     },
     "metadata": {},
     "output_type": "display_data"
    }
   ],
   "source": [
    "# 원 그래프\n",
    "labels_3 = [\"Stock\", \"Interm_bond\", \"Long_bond\", \"Commodity\", \"Gold\"]\n",
    "# ratio_2 = [60, 40]\n",
    "ratio_3 = [30, 15, 40, 7.5, 7.5]\n",
    "\n",
    "plt.pie(ratio_3, labels = labels_3)\n",
    "plt.show()"
   ]
  },
  {
   "cell_type": "markdown",
   "metadata": {},
   "source": [
    "### 3. 데이터 분석\n"
   ]
  },
  {
   "cell_type": "code",
   "execution_count": 26,
   "metadata": {},
   "outputs": [],
   "source": [
    "# # (움직이는 그래프로)30년 백테스팅 추이 그래프 - 원점을 어떻게 설정할 것인가? \n",
    "# 1000으로 잡고 비율(x) 조정해서 전체에다가 곱하기로 그래프 그리기 "
   ]
  },
  {
   "cell_type": "code",
   "execution_count": 25,
   "metadata": {},
   "outputs": [],
   "source": [
    "# back testing \n",
    "# train_test_spilt 로 트레인 시킬것\n",
    "# 트러블 슈팅 때 질문"
   ]
  },
  {
   "cell_type": "code",
   "execution_count": 241,
   "metadata": {},
   "outputs": [],
   "source": [
    "# 변동성 정의 다시 말해주기 마이너스 폭\n",
    "\n"
   ]
  },
  {
   "cell_type": "code",
   "execution_count": 242,
   "metadata": {},
   "outputs": [],
   "source": [
    "# DCT"
   ]
  },
  {
   "cell_type": "markdown",
   "metadata": {},
   "source": [
    "#### 1) 기대수익률 (return)"
   ]
  },
  {
   "cell_type": "code",
   "execution_count": 41,
   "metadata": {},
   "outputs": [
    {
     "data": {
      "text/plain": [
       "array([0.06281635, 0.02065759, 0.00759185, 0.01895076, 0.06217678])"
      ]
     },
     "execution_count": 41,
     "metadata": {},
     "output_type": "execute_result"
    }
   ],
   "source": [
    "# 각 자산별 기대 수익률\n",
    "# https://m.blog.naver.com/PostView.nhn?blogId=anthouse28&logNo=221640874003&proxyReferer=https:%2F%2Fwww.google.com%2F\n",
    "\n",
    "\n",
    "import numpy as np\n",
    "closes_df\n",
    "\n",
    "# 각 자산별 weekly 로그 수익률 계산 \n",
    "logret_df = np.log(closes_df/closes_df.shift(1))\n",
    "logret_df = logret_df.dropna()\n",
    "logret_df.columns = [\"주식\", \"중기채\",\"장기채\",\"원자재\",\"금\"]\n",
    "logret_df.head()\n",
    "\n",
    "# 각 자산별 weekly 평균 로그 수익률 계산\n",
    "week_mprofit = logret_df.mean()\n",
    "week_mprofit\n",
    "\n",
    "# 각 자산별 yearly 평균 로그 수익률 계산 \n",
    "# 거래일 252 일 / 5 = 50.4주\n",
    "# 벡터로 형변환 \n",
    "year_mprofit = week_mprofit * 50.4\n",
    "year_mprofit = year_mprofit.values\n",
    "year_mprofit\n",
    "\n",
    "# 각 자산별 년간 평균 6.3%, 2%, 0.8%, 1.9%, 6.2% 의 로그 수익률 예상 (소수점 넷째자리에서 반올림)"
   ]
  },
  {
   "cell_type": "code",
   "execution_count": 43,
   "metadata": {},
   "outputs": [
    {
     "data": {
      "text/plain": [
       "(0.06281635291806839, 0.04595284881267813, 0.034331286297367127)"
      ]
     },
     "execution_count": 43,
     "metadata": {},
     "output_type": "execute_result"
    }
   ],
   "source": [
    "# 포트폴리오별 기대 수익률\n",
    "\n",
    "# 포트폴리오별 가중치\n",
    "s = np.array([1, 0, 0, 0, 0])\n",
    "s_6 = np.array([0.6, 0.4, 0, 0, 0])\n",
    "aw = np.array([0.3, 0.4, 0.15, 0.075, 0.075])\n",
    "\n",
    "# 가중치 * 자산별 년간 평균 로그 수익률 계산\n",
    "s_return = s.dot(year_mprofit)\n",
    "s_6_return = s_6.dot(year_mprofit)\n",
    "aw_return = aw.dot(year_mprofit)\n",
    "\n",
    "\n",
    "s_return,s_6_return,aw_return\n",
    "# 년간 6.3%, 4.6%, 3.4% 로그 수익률 예상\n",
    "\n",
    "# (10년 후 예상~~)"
   ]
  },
  {
   "cell_type": "markdown",
   "metadata": {},
   "source": [
    "#### 2) RISK \n",
    "##### 2-1) 변동성"
   ]
  },
  {
   "cell_type": "code",
   "execution_count": 45,
   "metadata": {
    "scrolled": true
   },
   "outputs": [
    {
     "data": {
      "text/plain": [
       "주식     0.025132\n",
       "중기채    0.015287\n",
       "장기채    0.006643\n",
       "원자재    0.031062\n",
       "금      0.023682\n",
       "dtype: float64"
      ]
     },
     "execution_count": 45,
     "metadata": {},
     "output_type": "execute_result"
    }
   ],
   "source": [
    "#변동성(기대 수익률 표준편차) 분석 \n",
    "# 변동성이 적으면 안정적이다 ! 라는 결론 도출\n",
    "\n",
    "# 자산별 로그 수익률\n",
    "logret_df.head()\n",
    "# 자산별 risk : 자산별 weekly 기대 수익률의 표준편차 \n",
    "logret_df.std()"
   ]
  },
  {
   "cell_type": "code",
   "execution_count": 76,
   "metadata": {
    "scrolled": true
   },
   "outputs": [
    {
     "name": "stdout",
     "output_type": "stream",
     "text": [
      "주식 100% 포트폴리오 위험도 :  0.1784217280957842\n",
      "주식 60%, 채권 40% 포트폴리오 위험도 :  0.10476659319704153\n",
      "all weather 포트폴리오 위험도 :  0.07049222437405185\n"
     ]
    }
   ],
   "source": [
    "# 포트폴리오별 risk\n",
    "# 주별 로그 기대수익률 데이터 프레임 사용해 공분산 행렬\n",
    "logret_df.cov()\n",
    "# 년간 환산을 위해 * 50.4 \n",
    "cov_mat = logret_df.cov()*50.4\n",
    "# 행렬로 타입 변환\n",
    "cov_mat = cov_mat.values  \n",
    "cov_mat\n",
    "\n",
    "#포트폴리오 년간 risk 계산 (분산으로 / 표준편차로 ?)\n",
    "\n",
    "s_var = np.dot(np.dot(s,cov_mat), s.T)\n",
    "s_risk = np.sqrt(s_var)\n",
    "s_6_var = np.dot(np.dot(s_6,cov_mat), s_6.T)\n",
    "s_6_risk = np.sqrt(s_6_var)\n",
    "aw_var = np.dot(np.dot(aw,cov_mat), aw.T)\n",
    "aw_risk = np.sqrt(aw_var)\n",
    "\n",
    "print(\"주식 100% 포트폴리오 위험도 : \", s_risk)\n",
    "print(\"주식 60%, 채권 40% 포트폴리오 위험도 : \", s_6_risk)\n",
    "print(\"all weather 포트폴리오 위험도 : \", aw_risk)"
   ]
  },
  {
   "cell_type": "code",
   "execution_count": 53,
   "metadata": {},
   "outputs": [
    {
     "data": {
      "text/plain": [
       "주식     0.001246\n",
       "중기채    0.000410\n",
       "장기채    0.000151\n",
       "원자재    0.000376\n",
       "금      0.001234\n",
       "dtype: float64"
      ]
     },
     "execution_count": 53,
     "metadata": {},
     "output_type": "execute_result"
    }
   ],
   "source": [
    "week_mprofit = logret_df.mean()\n",
    "week_mprofit"
   ]
  },
  {
   "cell_type": "code",
   "execution_count": 73,
   "metadata": {
    "scrolled": true
   },
   "outputs": [
    {
     "name": "stderr",
     "output_type": "stream",
     "text": [
      "No handles with labels found to put in legend.\n"
     ]
    },
    {
     "data": {
      "image/png": "[encoded data removed]",
      "text/plain": [
       "<Figure size 432x288 with 1 Axes>"
      ]
     },
     "metadata": {
      "needs_background": "light"
     },
     "output_type": "display_data"
    }
   ],
   "source": [
    "plt.figure()\n",
    "## 주당 수익률이라 y축 단위 조정 필요할듯(년단위로)\n",
    "\n",
    "# 주식 \n",
    "week_mprofit = logret_df.mean()\n",
    "plt.plot(np.sqrt(cov_mat[0][0]),week_mprofit[0], marker = 's', color = '#A1E2FF', markeredgewidth = 1, markersize = 10);\n",
    "\n",
    "# 중기채 \n",
    "week_mprofit = logret_df.mean()\n",
    "plt.plot(np.sqrt(cov_mat[1][1]),week_mprofit[1], marker = 's', color = '#65ABEC', markeredgewidth = 1, markersize = 10);\n",
    "\n",
    "# 장기채\n",
    "week_mprofit = logret_df.mean()\n",
    "plt.plot(np.sqrt(cov_mat[2][2]),week_mprofit[2], marker = 's', color = '#1F77B4', markeredgewidth = 1, markersize = 10);\n",
    "\n",
    "# 원자재\n",
    "week_mprofit = logret_df.mean()\n",
    "plt.plot(np.sqrt(cov_mat[3][3]),week_mprofit[3], marker = 's', color = '#000536', markeredgewidth = 1, markersize = 10);\n",
    "\n",
    "# 금\n",
    "week_mprofit = logret_df.mean()\n",
    "plt.plot(np.sqrt(cov_mat[4][4]),week_mprofit[4], marker = 's', color = '#AFB2B4', markeredgewidth = 1, markersize = 10);\n",
    "\n",
    "\n",
    "plt.plot(0,0)\n",
    "plt.title(\"risk-return plane\")\n",
    "plt.xlabel('risk')\n",
    "plt.ylabel('return')\n",
    "plt.legend();\n",
    "# LEBEL 붙이기"
   ]
  },
  {
   "cell_type": "code",
   "execution_count": 79,
   "metadata": {
    "scrolled": true
   },
   "outputs": [
    {
     "name": "stderr",
     "output_type": "stream",
     "text": [
      "No handles with labels found to put in legend.\n"
     ]
    },
    {
     "data": {
      "image/png": "[encoded data removed]",
      "text/plain": [
       "<Figure size 432x288 with 1 Axes>"
      ]
     },
     "metadata": {
      "needs_background": "light"
     },
     "output_type": "display_data"
    }
   ],
   "source": [
    "# 포트폴리오별 년간 risk - return \n",
    "\n",
    "# 주식 100%  \n",
    "plt.plot(s_risk, s_return, marker = 's', color = '#A1E2FF', markeredgewidth = 1, markersize = 10);\n",
    "\n",
    "# 주식 60% + 채권 40%   \n",
    "plt.plot(s_6_risk, s_6_return, marker = 's', color = '#65ABEC', markeredgewidth = 1, markersize = 10);\n",
    "\n",
    "# all weather \n",
    "plt.plot(aw_risk, aw_return, marker = 's', color = '#AFB2B4', markeredgewidth = 1, markersize = 10);\n",
    "\n",
    "plt.plot(0,0)\n",
    "plt.title(\"risk-return plane\")\n",
    "plt.xlabel('risk')\n",
    "plt.ylabel('return')\n",
    "plt.legend();"
   ]
  },
  {
   "cell_type": "markdown",
   "metadata": {},
   "source": [
    "##### 2-2) 돈 잃을 가능성"
   ]
  },
  {
   "cell_type": "code",
   "execution_count": null,
   "metadata": {},
   "outputs": [],
   "source": [
    "# 포트폴리오 최악의 해(년단위), 최대 낙폭(주단위), mdd\n"
   ]
  },
  {
   "cell_type": "code",
   "execution_count": null,
   "metadata": {},
   "outputs": [],
   "source": [
    "#  지수와 상품간 correlation \n",
    "# 마지막에 상관관계 적용해서 99% 구하기 \n",
    "# 상관계수함수 쓰기\n",
    "\n",
    "# (마지막에 신뢰도 수정)"
   ]
  },
  {
   "cell_type": "markdown",
   "metadata": {},
   "source": [
    "### 4. 데이터 시각화"
   ]
  },
  {
   "cell_type": "code",
   "execution_count": null,
   "metadata": {},
   "outputs": [],
   "source": [
    "# dataframe으로 포트폴리오 3개 비교하기 \n",
    "# no, 포트폴리오명, 최초금액, 최종금액, 30년간 수익률, 최고의 해, 최악의 해, 최대 낙폭, 상관관계\n",
    "# 상관관계 : 시장(s&p 500)과 포트폴리오와의 관계 -> 자산배분 잘되있다."
   ]
  },
  {
   "cell_type": "code",
   "execution_count": null,
   "metadata": {},
   "outputs": [],
   "source": [
    "# 상관관계 할때 hitmap "
   ]
  },
  {
   "cell_type": "code",
   "execution_count": null,
   "metadata": {},
   "outputs": [],
   "source": [
    "# 진짜 올웨더가 최선일까?\n",
    "# 움직이는 거..\n",
    "#https://m.blog.naver.com/anthouse28/221611131960"
   ]
  },
  {
   "cell_type": "code",
   "execution_count": null,
   "metadata": {},
   "outputs": [],
   "source": [
    "# 당신은 어떤 투자 성향입니까 ?\n",
    "# 공격, 안정 - 포트폴리오 퍼센트 정의 \n",
    "# 입력하면, 쫙"
   ]
  },
  {
   "cell_type": "code",
   "execution_count": null,
   "metadata": {},
   "outputs": [],
   "source": []
  }
 ],
 "metadata": {
  "kernelspec": {
   "display_name": "Python 3",
   "language": "python",
   "name": "python3"
  },
  "language_info": {
   "codemirror_mode": {
    "name": "ipython",
    "version": 3
   },
   "file_extension": ".py",
   "mimetype": "text/x-python",
   "name": "python",
   "nbconvert_exporter": "python",
   "pygments_lexer": "ipython3",
   "version": "3.7.6"
  }
 },
 "nbformat": 4,
 "nbformat_minor": 4
}
