{
 "cells": [
  {
   "cell_type": "markdown",
   "metadata": {},
   "source": [
    "## EDA PROJECT"
   ]
  },
  {
   "cell_type": "markdown",
   "metadata": {},
   "source": [
    "### 1. 데이터 수집 \n",
    "- weekly data\n",
    "- Index(지수) Data(96.07.01 ~ 20.06.29)\n",
    "    - SP_Index(주식), Interm_Index(중기채), Long_Index(장기채), Commodity_Index(원자재), Gold_Index(금)\n",
    "- ETF(상품) Data(06.06.26 ~ 20.06.29)\n",
    "    - SPY(주식 ETF), IEF(중기채 ETF), TLT(장기채 ETF), DBC(원자재 ETF), GLD(금 ETF)"
   ]
  },
  {
   "cell_type": "code",
   "execution_count": 124,
   "metadata": {
    "scrolled": true
   },
   "outputs": [],
   "source": [
    "# Index Data 수집\n",
    "\n",
    "sp_index = pd.read_csv(\"./data/S&P_Index.csv\")\n",
    "gold_index = pd.read_csv(\"./data/Gold_Index.csv\")\n",
    "commodity_index = pd.read_csv(\"./data/Commodity_Index.csv\")\n",
    "interm_index = pd.read_csv(\"./data/Intermediate_Term_Bond_Index.csv\")\n",
    "long_index = pd.read_csv(\"./data/Long_Term_Bond_Index.csv\")\n",
    "\n",
    "# ETF(상품) data 수집\n",
    "\n",
    "spy_etf = pd.read_csv(\"./data/SPY.csv\")\n",
    "gld_etf = pd.read_csv(\"./data/Gld.csv\")\n",
    "dbc_etf = pd.read_csv(\"./data/DBC.csv\")\n",
    "ief_etf = pd.read_csv(\"./data/IEF.csv\")\n",
    "tlt_etf = pd.read_csv(\"./data/TLT.csv\")"
   ]
  },
  {
   "cell_type": "markdown",
   "metadata": {},
   "source": [
    "### 2. 데이터 전처리"
   ]
  },
  {
   "cell_type": "code",
   "execution_count": 125,
   "metadata": {},
   "outputs": [
    {
     "data": {
      "text/html": [
       "<div>\n",
       "<style scoped>\n",
       "    .dataframe tbody tr th:only-of-type {\n",
       "        vertical-align: middle;\n",
       "    }\n",
       "\n",
       "    .dataframe tbody tr th {\n",
       "        vertical-align: top;\n",
       "    }\n",
       "\n",
       "    .dataframe thead th {\n",
       "        text-align: right;\n",
       "    }\n",
       "</style>\n",
       "<table border=\"1\" class=\"dataframe\">\n",
       "  <thead>\n",
       "    <tr style=\"text-align: right;\">\n",
       "      <th></th>\n",
       "      <th>SP_Close</th>\n",
       "      <th>Long_Close</th>\n",
       "      <th>Interm_Close</th>\n",
       "      <th>Commodity_Close</th>\n",
       "      <th>Gold_Close</th>\n",
       "    </tr>\n",
       "    <tr>\n",
       "      <th>Date</th>\n",
       "      <th></th>\n",
       "      <th></th>\n",
       "      <th></th>\n",
       "      <th></th>\n",
       "      <th></th>\n",
       "    </tr>\n",
       "  </thead>\n",
       "  <tbody>\n",
       "    <tr>\n",
       "      <th>1996.7.1</th>\n",
       "      <td>657.44</td>\n",
       "      <td>9.41</td>\n",
       "      <td>10.07</td>\n",
       "      <td>207.88</td>\n",
       "      <td>382</td>\n",
       "    </tr>\n",
       "    <tr>\n",
       "      <th>1996.7.8</th>\n",
       "      <td>646.19</td>\n",
       "      <td>9.58</td>\n",
       "      <td>10.18</td>\n",
       "      <td>210.44</td>\n",
       "      <td>384</td>\n",
       "    </tr>\n",
       "    <tr>\n",
       "      <th>1996.7.15</th>\n",
       "      <td>638.73</td>\n",
       "      <td>9.64</td>\n",
       "      <td>10.22</td>\n",
       "      <td>198.54</td>\n",
       "      <td>385</td>\n",
       "    </tr>\n",
       "    <tr>\n",
       "      <th>1996.7.22</th>\n",
       "      <td>635.90</td>\n",
       "      <td>9.60</td>\n",
       "      <td>10.19</td>\n",
       "      <td>193.01</td>\n",
       "      <td>386</td>\n",
       "    </tr>\n",
       "    <tr>\n",
       "      <th>1996.7.29</th>\n",
       "      <td>662.49</td>\n",
       "      <td>9.87</td>\n",
       "      <td>10.38</td>\n",
       "      <td>200.48</td>\n",
       "      <td>388</td>\n",
       "    </tr>\n",
       "    <tr>\n",
       "      <th>...</th>\n",
       "      <td>...</td>\n",
       "      <td>...</td>\n",
       "      <td>...</td>\n",
       "      <td>...</td>\n",
       "      <td>...</td>\n",
       "    </tr>\n",
       "    <tr>\n",
       "      <th>2020.6.1</th>\n",
       "      <td>3193.93</td>\n",
       "      <td>14.93</td>\n",
       "      <td>12.03</td>\n",
       "      <td>325.54</td>\n",
       "      <td>1683</td>\n",
       "    </tr>\n",
       "    <tr>\n",
       "      <th>2020.6.8</th>\n",
       "      <td>3041.31</td>\n",
       "      <td>15.51</td>\n",
       "      <td>12.12</td>\n",
       "      <td>314.28</td>\n",
       "      <td>1737</td>\n",
       "    </tr>\n",
       "    <tr>\n",
       "      <th>2020.6.15</th>\n",
       "      <td>3097.74</td>\n",
       "      <td>15.51</td>\n",
       "      <td>12.13</td>\n",
       "      <td>327.64</td>\n",
       "      <td>1753</td>\n",
       "    </tr>\n",
       "    <tr>\n",
       "      <th>2020.6.22</th>\n",
       "      <td>3009.05</td>\n",
       "      <td>15.76</td>\n",
       "      <td>12.15</td>\n",
       "      <td>318.09</td>\n",
       "      <td>1780</td>\n",
       "    </tr>\n",
       "    <tr>\n",
       "      <th>2020.6.29</th>\n",
       "      <td>3130.01</td>\n",
       "      <td>15.72</td>\n",
       "      <td>12.16</td>\n",
       "      <td>332.86</td>\n",
       "      <td>1790</td>\n",
       "    </tr>\n",
       "  </tbody>\n",
       "</table>\n",
       "<p>1253 rows × 5 columns</p>\n",
       "</div>"
      ],
      "text/plain": [
       "           SP_Close  Long_Close  Interm_Close  Commodity_Close  Gold_Close\n",
       "Date                                                                      \n",
       "1996.7.1     657.44        9.41         10.07           207.88         382\n",
       "1996.7.8     646.19        9.58         10.18           210.44         384\n",
       "1996.7.15    638.73        9.64         10.22           198.54         385\n",
       "1996.7.22    635.90        9.60         10.19           193.01         386\n",
       "1996.7.29    662.49        9.87         10.38           200.48         388\n",
       "...             ...         ...           ...              ...         ...\n",
       "2020.6.1    3193.93       14.93         12.03           325.54        1683\n",
       "2020.6.8    3041.31       15.51         12.12           314.28        1737\n",
       "2020.6.15   3097.74       15.51         12.13           327.64        1753\n",
       "2020.6.22   3009.05       15.76         12.15           318.09        1780\n",
       "2020.6.29   3130.01       15.72         12.16           332.86        1790\n",
       "\n",
       "[1253 rows x 5 columns]"
      ]
     },
     "execution_count": 125,
     "metadata": {},
     "output_type": "execute_result"
    }
   ],
   "source": [
    "# index df\n",
    "\n",
    "closes_df = pd.DataFrame({'Date' : sp_index[\"Date\"].copy(),\n",
    "                          'SP_Close' : sp_index[\"Close\"].copy(),\n",
    "                          'Long_Close' : long_index[\"Close\"].copy(),\n",
    "                          'Interm_Close' : interm_index[\"Close\"].copy(),\n",
    "                          'Commodity_Close' : commodity_index[\"Close\"].copy(),\n",
    "                          'Gold_Close' : gold_index[\"Close\"].copy()}).round(2)\n",
    "\n",
    "closes_df = closes_df.set_index('Date')\n",
    "\n",
    "closes_df"
   ]
  },
  {
   "cell_type": "code",
   "execution_count": 126,
   "metadata": {},
   "outputs": [
    {
     "data": {
      "text/plain": [
       "SP_Close           657.44\n",
       "Long_Close           9.41\n",
       "Interm_Close        10.07\n",
       "Commodity_Close    207.88\n",
       "Gold_Close         382.00\n",
       "Name: 1996.7.1, dtype: float64"
      ]
     },
     "execution_count": 126,
     "metadata": {},
     "output_type": "execute_result"
    }
   ],
   "source": [
    "closes_df.loc[\"1996.7.1\"]"
   ]
  },
  {
   "cell_type": "code",
   "execution_count": 131,
   "metadata": {},
   "outputs": [
    {
     "data": {
      "text/html": [
       "<div>\n",
       "<style scoped>\n",
       "    .dataframe tbody tr th:only-of-type {\n",
       "        vertical-align: middle;\n",
       "    }\n",
       "\n",
       "    .dataframe tbody tr th {\n",
       "        vertical-align: top;\n",
       "    }\n",
       "\n",
       "    .dataframe thead th {\n",
       "        text-align: right;\n",
       "    }\n",
       "</style>\n",
       "<table border=\"1\" class=\"dataframe\">\n",
       "  <thead>\n",
       "    <tr style=\"text-align: right;\">\n",
       "      <th></th>\n",
       "      <th>SP_Close</th>\n",
       "      <th>Long_Close</th>\n",
       "      <th>Interm_Close</th>\n",
       "      <th>Commodity_Close</th>\n",
       "      <th>Gold_Close</th>\n",
       "    </tr>\n",
       "    <tr>\n",
       "      <th>Date</th>\n",
       "      <th></th>\n",
       "      <th></th>\n",
       "      <th></th>\n",
       "      <th></th>\n",
       "      <th></th>\n",
       "    </tr>\n",
       "  </thead>\n",
       "  <tbody>\n",
       "    <tr>\n",
       "      <th>1996.7.1</th>\n",
       "      <td>0.000000</td>\n",
       "      <td>0.000000</td>\n",
       "      <td>0.000000</td>\n",
       "      <td>0.000000</td>\n",
       "      <td>0.000000</td>\n",
       "    </tr>\n",
       "    <tr>\n",
       "      <th>1996.7.8</th>\n",
       "      <td>-0.017112</td>\n",
       "      <td>0.018066</td>\n",
       "      <td>0.010924</td>\n",
       "      <td>0.012315</td>\n",
       "      <td>0.005236</td>\n",
       "    </tr>\n",
       "    <tr>\n",
       "      <th>1996.7.15</th>\n",
       "      <td>-0.028459</td>\n",
       "      <td>0.024442</td>\n",
       "      <td>0.014896</td>\n",
       "      <td>-0.044930</td>\n",
       "      <td>0.007853</td>\n",
       "    </tr>\n",
       "    <tr>\n",
       "      <th>1996.7.22</th>\n",
       "      <td>-0.032763</td>\n",
       "      <td>0.020191</td>\n",
       "      <td>0.011917</td>\n",
       "      <td>-0.071532</td>\n",
       "      <td>0.010471</td>\n",
       "    </tr>\n",
       "    <tr>\n",
       "      <th>1996.7.29</th>\n",
       "      <td>0.007681</td>\n",
       "      <td>0.048884</td>\n",
       "      <td>0.030785</td>\n",
       "      <td>-0.035597</td>\n",
       "      <td>0.015707</td>\n",
       "    </tr>\n",
       "    <tr>\n",
       "      <th>...</th>\n",
       "      <td>...</td>\n",
       "      <td>...</td>\n",
       "      <td>...</td>\n",
       "      <td>...</td>\n",
       "      <td>...</td>\n",
       "    </tr>\n",
       "    <tr>\n",
       "      <th>2020.6.1</th>\n",
       "      <td>3.858132</td>\n",
       "      <td>0.586610</td>\n",
       "      <td>0.194638</td>\n",
       "      <td>0.566000</td>\n",
       "      <td>3.405759</td>\n",
       "    </tr>\n",
       "    <tr>\n",
       "      <th>2020.6.8</th>\n",
       "      <td>3.625989</td>\n",
       "      <td>0.648247</td>\n",
       "      <td>0.203575</td>\n",
       "      <td>0.511834</td>\n",
       "      <td>3.547120</td>\n",
       "    </tr>\n",
       "    <tr>\n",
       "      <th>2020.6.15</th>\n",
       "      <td>3.711822</td>\n",
       "      <td>0.648247</td>\n",
       "      <td>0.204568</td>\n",
       "      <td>0.576102</td>\n",
       "      <td>3.589005</td>\n",
       "    </tr>\n",
       "    <tr>\n",
       "      <th>2020.6.22</th>\n",
       "      <td>3.576920</td>\n",
       "      <td>0.674814</td>\n",
       "      <td>0.206554</td>\n",
       "      <td>0.530162</td>\n",
       "      <td>3.659686</td>\n",
       "    </tr>\n",
       "    <tr>\n",
       "      <th>2020.6.29</th>\n",
       "      <td>3.760906</td>\n",
       "      <td>0.670563</td>\n",
       "      <td>0.207547</td>\n",
       "      <td>0.601212</td>\n",
       "      <td>3.685864</td>\n",
       "    </tr>\n",
       "  </tbody>\n",
       "</table>\n",
       "<p>1253 rows × 5 columns</p>\n",
       "</div>"
      ],
      "text/plain": [
       "           SP_Close  Long_Close  Interm_Close  Commodity_Close  Gold_Close\n",
       "Date                                                                      \n",
       "1996.7.1   0.000000    0.000000      0.000000         0.000000    0.000000\n",
       "1996.7.8  -0.017112    0.018066      0.010924         0.012315    0.005236\n",
       "1996.7.15 -0.028459    0.024442      0.014896        -0.044930    0.007853\n",
       "1996.7.22 -0.032763    0.020191      0.011917        -0.071532    0.010471\n",
       "1996.7.29  0.007681    0.048884      0.030785        -0.035597    0.015707\n",
       "...             ...         ...           ...              ...         ...\n",
       "2020.6.1   3.858132    0.586610      0.194638         0.566000    3.405759\n",
       "2020.6.8   3.625989    0.648247      0.203575         0.511834    3.547120\n",
       "2020.6.15  3.711822    0.648247      0.204568         0.576102    3.589005\n",
       "2020.6.22  3.576920    0.674814      0.206554         0.530162    3.659686\n",
       "2020.6.29  3.760906    0.670563      0.207547         0.601212    3.685864\n",
       "\n",
       "[1253 rows x 5 columns]"
      ]
     },
     "execution_count": 131,
     "metadata": {},
     "output_type": "execute_result"
    }
   ],
   "source": [
    "# 수익률 df\n",
    "index_df = (closes_df - closes_df.iloc[0]) / closes_df.iloc[0] \n",
    "index_df"
   ]
  },
  {
   "cell_type": "markdown",
   "metadata": {},
   "source": [
    "#### Index 추종 포트폴리오 구성\n",
    "- Portfolio_1 : 주식 100%\n",
    "- Portfolio_2 : 주식 60% + 장기채 40%\n",
    "- All_Weather : 주식 30% + 장기채 40% + 중기채 15% + 원자재 7.5% + 금 7.5%"
   ]
  },
  {
   "cell_type": "markdown",
   "metadata": {},
   "source": [
    "### 포트폴리오 구성\n",
    "- index df에 가중치를 주어 index 포트폴리오를 구성한다.\n",
    "- 96.07.01일 기준 $ 1,000 를 투자한다고 가정"
   ]
  },
  {
   "cell_type": "code",
   "execution_count": 132,
   "metadata": {},
   "outputs": [],
   "source": [
    "from matplotlib import pyplot as plt\n",
    "%matplotlib inline"
   ]
  },
  {
   "cell_type": "code",
   "execution_count": 133,
   "metadata": {},
   "outputs": [],
   "source": [
    "def get_port_return(sp_index_weight, long_index_weight, interm_index_weight, commodity_index_weight, gold_index_weight):\n",
    "    return (index_df * [sp_index_weight, long_index_weight, interm_index_weight, commodity_index_weight, gold_index_weight]).sum(axis=1)\n",
    "    # print(portfolio_return)\n",
    "#     portfolio_return = pd.DataFrame()"
   ]
  },
  {
   "cell_type": "code",
   "execution_count": 134,
   "metadata": {},
   "outputs": [
    {
     "data": {
      "text/html": [
       "<div>\n",
       "<style scoped>\n",
       "    .dataframe tbody tr th:only-of-type {\n",
       "        vertical-align: middle;\n",
       "    }\n",
       "\n",
       "    .dataframe tbody tr th {\n",
       "        vertical-align: top;\n",
       "    }\n",
       "\n",
       "    .dataframe thead th {\n",
       "        text-align: right;\n",
       "    }\n",
       "</style>\n",
       "<table border=\"1\" class=\"dataframe\">\n",
       "  <thead>\n",
       "    <tr style=\"text-align: right;\">\n",
       "      <th></th>\n",
       "      <th>Stock100%</th>\n",
       "    </tr>\n",
       "    <tr>\n",
       "      <th>Date</th>\n",
       "      <th></th>\n",
       "    </tr>\n",
       "  </thead>\n",
       "  <tbody>\n",
       "    <tr>\n",
       "      <th>2020.6.22</th>\n",
       "      <td>3.576920</td>\n",
       "    </tr>\n",
       "    <tr>\n",
       "      <th>2020.6.29</th>\n",
       "      <td>3.760906</td>\n",
       "    </tr>\n",
       "  </tbody>\n",
       "</table>\n",
       "</div>"
      ],
      "text/plain": [
       "           Stock100%\n",
       "Date                \n",
       "2020.6.22   3.576920\n",
       "2020.6.29   3.760906"
      ]
     },
     "execution_count": 134,
     "metadata": {},
     "output_type": "execute_result"
    }
   ],
   "source": [
    "df1 = pd.DataFrame({\"Stock100%\" : get_port_return(1, 0, 0, 0, 0)} )\n",
    "df1.tail(2)"
   ]
  },
  {
   "cell_type": "code",
   "execution_count": 135,
   "metadata": {},
   "outputs": [
    {
     "data": {
      "text/html": [
       "<div>\n",
       "<style scoped>\n",
       "    .dataframe tbody tr th:only-of-type {\n",
       "        vertical-align: middle;\n",
       "    }\n",
       "\n",
       "    .dataframe tbody tr th {\n",
       "        vertical-align: top;\n",
       "    }\n",
       "\n",
       "    .dataframe thead th {\n",
       "        text-align: right;\n",
       "    }\n",
       "</style>\n",
       "<table border=\"1\" class=\"dataframe\">\n",
       "  <thead>\n",
       "    <tr style=\"text-align: right;\">\n",
       "      <th></th>\n",
       "      <th>S6:B4</th>\n",
       "    </tr>\n",
       "    <tr>\n",
       "      <th>Date</th>\n",
       "      <th></th>\n",
       "    </tr>\n",
       "  </thead>\n",
       "  <tbody>\n",
       "    <tr>\n",
       "      <th>2020.6.22</th>\n",
       "      <td>2.416077</td>\n",
       "    </tr>\n",
       "    <tr>\n",
       "      <th>2020.6.29</th>\n",
       "      <td>2.524769</td>\n",
       "    </tr>\n",
       "  </tbody>\n",
       "</table>\n",
       "</div>"
      ],
      "text/plain": [
       "              S6:B4\n",
       "Date               \n",
       "2020.6.22  2.416077\n",
       "2020.6.29  2.524769"
      ]
     },
     "execution_count": 135,
     "metadata": {},
     "output_type": "execute_result"
    }
   ],
   "source": [
    "df2 = pd.DataFrame({\"S6:B4\" : get_port_return(0.6, 0.4, 0, 0, 0)} )\n",
    "df2.tail(2)"
   ]
  },
  {
   "cell_type": "code",
   "execution_count": 143,
   "metadata": {},
   "outputs": [
    {
     "data": {
      "text/html": [
       "<div>\n",
       "<style scoped>\n",
       "    .dataframe tbody tr th:only-of-type {\n",
       "        vertical-align: middle;\n",
       "    }\n",
       "\n",
       "    .dataframe tbody tr th {\n",
       "        vertical-align: top;\n",
       "    }\n",
       "\n",
       "    .dataframe thead th {\n",
       "        text-align: right;\n",
       "    }\n",
       "</style>\n",
       "<table border=\"1\" class=\"dataframe\">\n",
       "  <thead>\n",
       "    <tr style=\"text-align: right;\">\n",
       "      <th></th>\n",
       "      <th>All Weather</th>\n",
       "    </tr>\n",
       "    <tr>\n",
       "      <th>Date</th>\n",
       "      <th></th>\n",
       "    </tr>\n",
       "  </thead>\n",
       "  <tbody>\n",
       "    <tr>\n",
       "      <th>1996.7.1</th>\n",
       "      <td>0.000000</td>\n",
       "    </tr>\n",
       "    <tr>\n",
       "      <th>1996.7.8</th>\n",
       "      <td>0.004986</td>\n",
       "    </tr>\n",
       "  </tbody>\n",
       "</table>\n",
       "</div>"
      ],
      "text/plain": [
       "          All Weather\n",
       "Date                 \n",
       "1996.7.1     0.000000\n",
       "1996.7.8     0.004986"
      ]
     },
     "execution_count": 143,
     "metadata": {},
     "output_type": "execute_result"
    }
   ],
   "source": [
    "df3 =pd.DataFrame({\"All Weather\" : get_port_return(0.3, 0.4, 0.15, 0.07, 0.075)} )\n",
    "df3.head(2)"
   ]
  },
  {
   "cell_type": "code",
   "execution_count": 148,
   "metadata": {},
   "outputs": [
    {
     "data": {
      "text/html": [
       "<div>\n",
       "<style scoped>\n",
       "    .dataframe tbody tr th:only-of-type {\n",
       "        vertical-align: middle;\n",
       "    }\n",
       "\n",
       "    .dataframe tbody tr th {\n",
       "        vertical-align: top;\n",
       "    }\n",
       "\n",
       "    .dataframe thead th {\n",
       "        text-align: right;\n",
       "    }\n",
       "</style>\n",
       "<table border=\"1\" class=\"dataframe\">\n",
       "  <thead>\n",
       "    <tr style=\"text-align: right;\">\n",
       "      <th></th>\n",
       "      <th>Stock100%</th>\n",
       "      <th>S6:B4</th>\n",
       "      <th>All Weather</th>\n",
       "    </tr>\n",
       "    <tr>\n",
       "      <th>Date</th>\n",
       "      <th></th>\n",
       "      <th></th>\n",
       "      <th></th>\n",
       "    </tr>\n",
       "  </thead>\n",
       "  <tbody>\n",
       "    <tr>\n",
       "      <th>1996.7.1</th>\n",
       "      <td>0.000000</td>\n",
       "      <td>0.000000</td>\n",
       "      <td>0.000000</td>\n",
       "    </tr>\n",
       "    <tr>\n",
       "      <th>1996.7.8</th>\n",
       "      <td>-0.017112</td>\n",
       "      <td>-0.003041</td>\n",
       "      <td>0.004986</td>\n",
       "    </tr>\n",
       "  </tbody>\n",
       "</table>\n",
       "</div>"
      ],
      "text/plain": [
       "          Stock100%     S6:B4  All Weather\n",
       "Date                                      \n",
       "1996.7.1   0.000000  0.000000     0.000000\n",
       "1996.7.8  -0.017112 -0.003041     0.004986"
      ]
     },
     "execution_count": 148,
     "metadata": {},
     "output_type": "execute_result"
    }
   ],
   "source": [
    "port_df = pd.DataFrame({\"Stock100%\" : df1[\"Stock100%\"], \n",
    "                        \"S6:B4\" : df2[\"S6:B4\"],\n",
    "                        \"All Weather\" : df3[\"All Weather\"] } )\n",
    "port_df.head(2) "
   ]
  },
  {
   "cell_type": "code",
   "execution_count": 149,
   "metadata": {},
   "outputs": [
    {
     "data": {
      "text/plain": [
       "<matplotlib.axes._subplots.AxesSubplot at 0x7fbdeb10abd0>"
      ]
     },
     "execution_count": 149,
     "metadata": {},
     "output_type": "execute_result"
    },
    {
     "data": {
      "image/png": "[encoded data removed]",
      "text/plain": [
       "<Figure size 432x288 with 1 Axes>"
      ]
     },
     "metadata": {
      "image/png": {
       "height": 266,
       "width": 364
      },
      "needs_background": "light"
     },
     "output_type": "display_data"
    }
   ],
   "source": [
    "port_df.plot() "
   ]
  },
  {
   "cell_type": "code",
   "execution_count": 150,
   "metadata": {},
   "outputs": [],
   "source": [
    "# # 원 그래프\n",
    "# labels_3 = [\"Stock\", \"Interm_bond\", \"Long_bond\", \"Commodity\", \"Gold\"]\n",
    "# # ratio_2 = [60, 40]\n",
    "# ratio_3 = [30, 15, 40, 7.5, 7.5]\n",
    "\n",
    "# plt.pie(ratio_3, labels = labels_3)\n",
    "# plt.show()"
   ]
  },
  {
   "cell_type": "markdown",
   "metadata": {},
   "source": [
    "### 3. 데이터 분석\n"
   ]
  },
  {
   "cell_type": "code",
   "execution_count": 26,
   "metadata": {},
   "outputs": [],
   "source": [
    "# # (움직이는 그래프로)30년 백테스팅 추이 그래프 - 원점을 어떻게 설정할 것인가? \n",
    "# 1000으로 잡고 비율(x) 조정해서 전체에다가 곱하기로 그래프 그리기 "
   ]
  },
  {
   "cell_type": "code",
   "execution_count": 25,
   "metadata": {},
   "outputs": [],
   "source": [
    "# back testing \n",
    "# train_test_spilt 로 트레인 시킬것\n",
    "# 트러블 슈팅 때 질문"
   ]
  },
  {
   "cell_type": "code",
   "execution_count": 241,
   "metadata": {},
   "outputs": [],
   "source": [
    "# 변동성 정의 다시 말해주기 마이너스 폭"
   ]
  },
  {
   "cell_type": "code",
   "execution_count": 242,
   "metadata": {},
   "outputs": [],
   "source": [
    "# DCT"
   ]
  },
  {
   "cell_type": "markdown",
   "metadata": {},
   "source": [
    "#### 1) 기대수익률 (return)"
   ]
  },
  {
   "cell_type": "code",
   "execution_count": null,
   "metadata": {},
   "outputs": [],
   "source": [
    "# 기대 수익률, \n",
    "# https://m.blog.naver.com/PostView.nhn?blogId=anthouse28&logNo=221640874003&proxyReferer=https:%2F%2Fwww.google.com%2F\n",
    "\n",
    "\n",
    "\n"
   ]
  },
  {
   "cell_type": "markdown",
   "metadata": {},
   "source": [
    "#### 2) RISK \n",
    "##### 2-1) 변동성"
   ]
  },
  {
   "cell_type": "code",
   "execution_count": null,
   "metadata": {},
   "outputs": [],
   "source": [
    "#변동성(기대 수익률 표준편차) 분석 \n",
    "# 변동성이 적으면 안정적이다 ! 라는 결론 도출"
   ]
  },
  {
   "cell_type": "markdown",
   "metadata": {},
   "source": [
    "##### 2-2) 돈 잃을 가능성"
   ]
  },
  {
   "cell_type": "code",
   "execution_count": null,
   "metadata": {},
   "outputs": [],
   "source": [
    "# 최악의 해(년단위), 최대 낙폭(주단위), mdd"
   ]
  },
  {
   "cell_type": "code",
   "execution_count": null,
   "metadata": {},
   "outputs": [],
   "source": [
    "#  지수와 상품간 correlation \n",
    "# 마지막에 상관관계 적용해서 99% 구하기 \n",
    "# 상관계수함수 쓰기\n",
    "\n",
    "# (마지막에 신뢰도 수정)"
   ]
  },
  {
   "cell_type": "markdown",
   "metadata": {},
   "source": [
    "### 4. 데이터 시각화"
   ]
  },
  {
   "cell_type": "code",
   "execution_count": null,
   "metadata": {},
   "outputs": [],
   "source": [
    "# dataframe으로 포트폴리오 3개 비교하기 \n",
    "# no, 포트폴리오명, 최초금액, 최종금액, 30년간 수익률, 최고의 해, 최악의 해, 최대 낙폭, 상관관계\n",
    "# 상관관계 : 시장(s&p 500)과 포트폴리오와의 관계 -> 자산배분 잘되있다."
   ]
  },
  {
   "cell_type": "code",
   "execution_count": null,
   "metadata": {},
   "outputs": [],
   "source": [
    "# 상관관계 할때 hitmap "
   ]
  },
  {
   "cell_type": "code",
   "execution_count": null,
   "metadata": {},
   "outputs": [],
   "source": [
    "# 진짜 올웨더가 최선일까?\n",
    "# 움직이는 거..\n",
    "#https://m.blog.naver.com/anthouse28/221611131960"
   ]
  },
  {
   "cell_type": "code",
   "execution_count": null,
   "metadata": {},
   "outputs": [],
   "source": [
    "# 당신은 어떤 투자 성향입니까 ?\n",
    "# 공격, 중도, 안정 - 포트폴리오 퍼센트 정의 \n",
    "# 입력하면, 쫙"
   ]
  },
  {
   "cell_type": "code",
   "execution_count": null,
   "metadata": {},
   "outputs": [],
   "source": []
  }
 ],
 "metadata": {
  "kernelspec": {
   "display_name": "Python 3",
   "language": "python",
   "name": "python3"
  },
  "language_info": {
   "codemirror_mode": {
    "name": "ipython",
    "version": 3
   },
   "file_extension": ".py",
   "mimetype": "text/x-python",
   "name": "python",
   "nbconvert_exporter": "python",
   "pygments_lexer": "ipython3",
   "version": "3.7.6"
  }
 },
 "nbformat": 4,
 "nbformat_minor": 4
}
