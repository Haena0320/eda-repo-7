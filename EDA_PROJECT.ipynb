{
 "cells": [
  {
   "cell_type": "markdown",
   "metadata": {},
   "source": [
    "## EDA PROJECT\n",
    "### 1. 데이터 수집 "
   ]
  },
  {
   "cell_type": "code",
   "execution_count": 6,
   "metadata": {},
   "outputs": [
    {
     "data": {
      "text/plain": [
       "'/Users/huijukim/code'"
      ]
     },
     "execution_count": 6,
     "metadata": {},
     "output_type": "execute_result"
    }
   ],
   "source": [
    "%pwd"
   ]
  },
  {
   "cell_type": "code",
   "execution_count": 40,
   "metadata": {
    "scrolled": true
   },
   "outputs": [],
   "source": [
    "import pandas as pd\n",
    "# 데이터 수집 (주단위)\n",
    "# 일단 10개의 데이터 프레임 로드\n",
    "# 상품 : SPY, IEF(중기채), TLT(장기채), DBC, GLD\n",
    "spy = pd.read_csv(\"./eda/etf/spy.csv\", sep=',')\n",
    "ief = pd.read_csv(\"./eda/etf/ief.csv\", sep=',')\n",
    "tlt = pd.read_csv(\"./eda/etf/tlt.csv\", sep=',')\n",
    "dbc = pd.read_csv(\"./eda/etf/dbc.csv\", sep=',')\n",
    "gld = pd.read_csv(\"./eda/etf/gld.csv\", sep=',')\n",
    "\n",
    "# 추종 (30년치): SPX, VFITX(중기채), VUSTX(장기채), SPGSCI, GOLD FURES\n",
    "spx = pd.read_csv(\"./eda/index/spx.csv\", sep=',')\n",
    "vfitx = pd.read_csv(\"./eda/index/vfitx.csv\", sep=',')\n",
    "vustx = pd.read_csv(\"./eda/index/vustx.csv\", sep=',')\n",
    "spgsci = pd.read_csv(\"./eda/index/spgsci.csv\", sep=',')\n",
    "gld_future = pd.read_csv(\"./eda/index/gld_future.csv\", sep=',')\n"
   ]
  },
  {
   "cell_type": "markdown",
   "metadata": {},
   "source": [
    "### 2. 데이터 전처리"
   ]
  },
  {
   "cell_type": "code",
   "execution_count": 35,
   "metadata": {
    "scrolled": true
   },
   "outputs": [
    {
     "data": {
      "text/plain": [
       "0          381.5\n",
       "1          383.9\n",
       "2            385\n",
       "3          385.7\n",
       "4          387.6\n",
       "          ...   \n",
       "1248    1,683.00\n",
       "1249    1,737.30\n",
       "1250    1,753.00\n",
       "1251    1,780.30\n",
       "1252    1,790.00\n",
       "Name: Close, Length: 1253, dtype: object"
      ]
     },
     "execution_count": 35,
     "metadata": {},
     "output_type": "execute_result"
    }
   ],
   "source": [
    "#1.\n",
    "# date, close 칼럼만 불러서 새로운 데이터 프레임 만듬.\n",
    "# data.copy() 쓸것\n",
    "\n",
    "## drop 함수써서 date 열 분리. 5개 인덱스 클로즈 칼럼 분리.\n",
    "\n",
    "date = spx[\"Date\"].copy()\n",
    "date.dropna()\n",
    "\n",
    "spx1= spx[\"Close\"].copy()\n",
    "spx1.dropna()\n",
    "spx1.round(2)\n",
    "\n",
    "vfitx1= vfitx[\"Close\"].copy()\n",
    "vfitx1.dropna()\n",
    "\n",
    "vustx1= vustx[\"Close\"].copy()\n",
    "vustx1.dropna()\n",
    "\n",
    "spgsci1= spgsci[\"Close\"].copy()\n",
    "spgsci1.dropna()\n",
    "\n",
    "gld_future1= gld_future[\"Close\"].copy()\n",
    "gld_future1.dropna()\n",
    "\n",
    "# date, spx1, vfitx1, vustx1, spqsci1, gld_future1, stock_100, stock_60_longterm_40, all_weather 데이터프레임 만들기\n",
    "\n",
    "#all = pd.concat([date, spx1, vfitx1, vustx1, spqsci1, gld_future1], axis = 1)\n",
    "\n",
    "#.2\n",
    "# 포트폴리오 3개 제작 (가격 비율이 아니라 구성/지수 비율임)\n",
    "\n",
    "## date 열 추가해서 다시 짤 것\n",
    "# 1) SPX 100% \n",
    "#stock_100 = pd.concat([date,spx1], axis = 1)\n",
    "# 2) SPX 60% + VUSTX 40% \n",
    "#stock_60_longterm_40 = pd.concat([date, sl], axis = 1)\n",
    "# 3) SPX 30% + VFITX 15% + VUSTX 40% + SPGSCI 7.5% + GOLD FURES 7.5%\n",
    "#spx1*0.3 + vfitx1*0.15 + vustx1*0.4 + spgsci1*0.075 + gld_future1*0.075"
   ]
  },
  {
   "cell_type": "code",
   "execution_count": 36,
   "metadata": {},
   "outputs": [
    {
     "data": {
      "text/html": [
       "<div>\n",
       "<style scoped>\n",
       "    .dataframe tbody tr th:only-of-type {\n",
       "        vertical-align: middle;\n",
       "    }\n",
       "\n",
       "    .dataframe tbody tr th {\n",
       "        vertical-align: top;\n",
       "    }\n",
       "\n",
       "    .dataframe thead th {\n",
       "        text-align: right;\n",
       "    }\n",
       "</style>\n",
       "<table border=\"1\" class=\"dataframe\">\n",
       "  <thead>\n",
       "    <tr style=\"text-align: right;\">\n",
       "      <th></th>\n",
       "      <th>날짜</th>\n",
       "      <th>주식</th>\n",
       "      <th>중기채</th>\n",
       "      <th>장기채</th>\n",
       "      <th>원자재</th>\n",
       "      <th>금</th>\n",
       "      <th>주식100</th>\n",
       "      <th>주식60_채권40</th>\n",
       "      <th>all_weather</th>\n",
       "    </tr>\n",
       "  </thead>\n",
       "  <tbody>\n",
       "    <tr>\n",
       "      <th>0</th>\n",
       "      <td>1996.7.1</td>\n",
       "      <td>657.440002</td>\n",
       "      <td>10.07</td>\n",
       "      <td>9.41</td>\n",
       "      <td>207.8812</td>\n",
       "      <td>381.5</td>\n",
       "      <td>657.440002</td>\n",
       "      <td>398.228001</td>\n",
       "      <td>0</td>\n",
       "    </tr>\n",
       "    <tr>\n",
       "      <th>1</th>\n",
       "      <td>1996.7.8</td>\n",
       "      <td>646.190002</td>\n",
       "      <td>10.18</td>\n",
       "      <td>9.58</td>\n",
       "      <td>210.4409</td>\n",
       "      <td>383.9</td>\n",
       "      <td>646.190002</td>\n",
       "      <td>391.546001</td>\n",
       "      <td>0</td>\n",
       "    </tr>\n",
       "    <tr>\n",
       "      <th>2</th>\n",
       "      <td>1996.7.15</td>\n",
       "      <td>638.729980</td>\n",
       "      <td>10.22</td>\n",
       "      <td>9.64</td>\n",
       "      <td>198.5413</td>\n",
       "      <td>385</td>\n",
       "      <td>638.729980</td>\n",
       "      <td>387.093988</td>\n",
       "      <td>0</td>\n",
       "    </tr>\n",
       "    <tr>\n",
       "      <th>3</th>\n",
       "      <td>1996.7.22</td>\n",
       "      <td>635.900024</td>\n",
       "      <td>10.19</td>\n",
       "      <td>9.60</td>\n",
       "      <td>193.0097</td>\n",
       "      <td>385.7</td>\n",
       "      <td>635.900024</td>\n",
       "      <td>385.380014</td>\n",
       "      <td>0</td>\n",
       "    </tr>\n",
       "    <tr>\n",
       "      <th>4</th>\n",
       "      <td>1996.7.29</td>\n",
       "      <td>662.489990</td>\n",
       "      <td>10.38</td>\n",
       "      <td>9.87</td>\n",
       "      <td>200.4791</td>\n",
       "      <td>387.6</td>\n",
       "      <td>662.489990</td>\n",
       "      <td>401.441994</td>\n",
       "      <td>0</td>\n",
       "    </tr>\n",
       "    <tr>\n",
       "      <th>...</th>\n",
       "      <td>...</td>\n",
       "      <td>...</td>\n",
       "      <td>...</td>\n",
       "      <td>...</td>\n",
       "      <td>...</td>\n",
       "      <td>...</td>\n",
       "      <td>...</td>\n",
       "      <td>...</td>\n",
       "      <td>...</td>\n",
       "    </tr>\n",
       "    <tr>\n",
       "      <th>1251</th>\n",
       "      <td>2020.6.22</td>\n",
       "      <td>3009.050049</td>\n",
       "      <td>12.15</td>\n",
       "      <td>15.76</td>\n",
       "      <td>318.0920</td>\n",
       "      <td>1,780.30</td>\n",
       "      <td>3009.050049</td>\n",
       "      <td>1811.734029</td>\n",
       "      <td>0</td>\n",
       "    </tr>\n",
       "    <tr>\n",
       "      <th>1252</th>\n",
       "      <td>2020.6.29</td>\n",
       "      <td>3130.010010</td>\n",
       "      <td>12.16</td>\n",
       "      <td>15.72</td>\n",
       "      <td>332.8598</td>\n",
       "      <td>1,790.00</td>\n",
       "      <td>3130.010010</td>\n",
       "      <td>1884.294006</td>\n",
       "      <td>0</td>\n",
       "    </tr>\n",
       "    <tr>\n",
       "      <th>1253</th>\n",
       "      <td>NaN</td>\n",
       "      <td>NaN</td>\n",
       "      <td>NaN</td>\n",
       "      <td>NaN</td>\n",
       "      <td>NaN</td>\n",
       "      <td>NaN</td>\n",
       "      <td>NaN</td>\n",
       "      <td>NaN</td>\n",
       "      <td>0</td>\n",
       "    </tr>\n",
       "    <tr>\n",
       "      <th>1254</th>\n",
       "      <td>NaN</td>\n",
       "      <td>NaN</td>\n",
       "      <td>NaN</td>\n",
       "      <td>NaN</td>\n",
       "      <td>NaN</td>\n",
       "      <td>NaN</td>\n",
       "      <td>NaN</td>\n",
       "      <td>NaN</td>\n",
       "      <td>0</td>\n",
       "    </tr>\n",
       "    <tr>\n",
       "      <th>1255</th>\n",
       "      <td>NaN</td>\n",
       "      <td>NaN</td>\n",
       "      <td>NaN</td>\n",
       "      <td>NaN</td>\n",
       "      <td>NaN</td>\n",
       "      <td>NaN</td>\n",
       "      <td>NaN</td>\n",
       "      <td>NaN</td>\n",
       "      <td>0</td>\n",
       "    </tr>\n",
       "  </tbody>\n",
       "</table>\n",
       "<p>1256 rows × 9 columns</p>\n",
       "</div>"
      ],
      "text/plain": [
       "             날짜           주식    중기채    장기채       원자재         금        주식100  \\\n",
       "0      1996.7.1   657.440002  10.07   9.41  207.8812     381.5   657.440002   \n",
       "1      1996.7.8   646.190002  10.18   9.58  210.4409     383.9   646.190002   \n",
       "2     1996.7.15   638.729980  10.22   9.64  198.5413       385   638.729980   \n",
       "3     1996.7.22   635.900024  10.19   9.60  193.0097     385.7   635.900024   \n",
       "4     1996.7.29   662.489990  10.38   9.87  200.4791     387.6   662.489990   \n",
       "...         ...          ...    ...    ...       ...       ...          ...   \n",
       "1251  2020.6.22  3009.050049  12.15  15.76  318.0920  1,780.30  3009.050049   \n",
       "1252  2020.6.29  3130.010010  12.16  15.72  332.8598  1,790.00  3130.010010   \n",
       "1253        NaN          NaN    NaN    NaN       NaN       NaN          NaN   \n",
       "1254        NaN          NaN    NaN    NaN       NaN       NaN          NaN   \n",
       "1255        NaN          NaN    NaN    NaN       NaN       NaN          NaN   \n",
       "\n",
       "        주식60_채권40  all_weather  \n",
       "0      398.228001            0  \n",
       "1      391.546001            0  \n",
       "2      387.093988            0  \n",
       "3      385.380014            0  \n",
       "4      401.441994            0  \n",
       "...           ...          ...  \n",
       "1251  1811.734029            0  \n",
       "1252  1884.294006            0  \n",
       "1253          NaN            0  \n",
       "1254          NaN            0  \n",
       "1255          NaN            0  \n",
       "\n",
       "[1256 rows x 9 columns]"
      ]
     },
     "execution_count": 36,
     "metadata": {},
     "output_type": "execute_result"
    }
   ],
   "source": [
    "all = pd.concat([date, spx1, vfitx1, vustx1, spgsci1, gld_future1], axis = 1)\n",
    "all.columns = [\"날짜\", \"주식\", \"중기채\",\"장기채\",\"원자재\", \"금\" ]\n",
    "all[\"주식100\"] = spx1\n",
    "all[\"주식60_채권40\"] = 0\n",
    "all[\"all_weather\"] = 0\n",
    "#stock_100, stock_60_longterm_40, all_weather 칼럼 추가\n",
    "#all[[\"stock_100\",\"stock_60_longterm_40\",\"all_weather\"]]=0 \n",
    "#spx1*0.3 + vfitx1*0.15 + vustx1*0.4 + spgsci1*0.075 + gld_future1*0.075\n",
    "all[\"주식60_채권40\"] = 0.6 * all['주식'] + 0.4*all[\"장기채\"]\n",
    "#all[\"all_weather\"] = 0.3* all[\"주식\"]+0.15*[\"중기채\"]+0.4*all[\"장기채\"]+0.075*all[\"원자재\"]+0.075*all[\"금\"]\n",
    "all[\"주식\"].round(2)\n",
    "all"
   ]
  },
  {
   "cell_type": "markdown",
   "metadata": {},
   "source": [
    "### 3. 데이터 분석\n"
   ]
  },
  {
   "cell_type": "code",
   "execution_count": 2,
   "metadata": {},
   "outputs": [],
   "source": [
    "\n",
    "# back testing \n",
    "# train_test_spilt 로 트레인 시킬것"
   ]
  },
  {
   "cell_type": "markdown",
   "metadata": {},
   "source": [
    "#### 1) 기대수익률 (return)"
   ]
  },
  {
   "cell_type": "code",
   "execution_count": null,
   "metadata": {},
   "outputs": [],
   "source": [
    "# 기대 수익률, \n",
    "# https://m.blog.naver.com/PostView.nhn?blogId=anthouse28&logNo=221640874003&proxyReferer=https:%2F%2Fwww.google.com%2F\n",
    "\n",
    "\n",
    "\n"
   ]
  },
  {
   "cell_type": "markdown",
   "metadata": {},
   "source": [
    "#### 2) RISK \n",
    "##### 2-1) 변동성"
   ]
  },
  {
   "cell_type": "code",
   "execution_count": null,
   "metadata": {},
   "outputs": [],
   "source": [
    "#변동성(기대 수익률 표준편차) 분석 \n",
    "# 변동성이 적으면 안정적이다 ! 라는 결론 도출"
   ]
  },
  {
   "cell_type": "markdown",
   "metadata": {},
   "source": [
    "##### 2-2) 돈 잃을 가능성"
   ]
  },
  {
   "cell_type": "code",
   "execution_count": null,
   "metadata": {},
   "outputs": [],
   "source": [
    "# 최악의 해(년단위), 최대 낙폭(주단위), mdd"
   ]
  },
  {
   "cell_type": "code",
   "execution_count": null,
   "metadata": {},
   "outputs": [],
   "source": [
    "#  지수와 상품간 correlation \n",
    "# 마지막에 상관관계 적용해서 99% 구하기 \n",
    "# 상관계수함수 쓰기\n",
    "\n",
    "# (마지막에 신뢰도 수정)"
   ]
  },
  {
   "cell_type": "markdown",
   "metadata": {},
   "source": [
    "### 4. 데이터 시각화"
   ]
  },
  {
   "cell_type": "code",
   "execution_count": null,
   "metadata": {},
   "outputs": [],
   "source": [
    "# 포트폴리오 구성 원그래프 "
   ]
  },
  {
   "cell_type": "code",
   "execution_count": null,
   "metadata": {},
   "outputs": [],
   "source": [
    "# (움직이는 그래프로)30년 백테스팅"
   ]
  },
  {
   "cell_type": "code",
   "execution_count": null,
   "metadata": {},
   "outputs": [],
   "source": [
    "# dataframe으로 포트폴리오 3개 비교하기 \n",
    "# no, 포트폴리오명, 최초금액, 최종금액, 30년간 수익률, 최고의 해, 최악의 해, 최대 낙폭, 상관관계\n",
    "# 상관관계 : 시장(s&p 500)과 포트폴리오와의 관계 -> 자산배분 잘되있다."
   ]
  },
  {
   "cell_type": "code",
   "execution_count": null,
   "metadata": {},
   "outputs": [],
   "source": [
    "# 상관관계 할때 hitmap "
   ]
  },
  {
   "cell_type": "code",
   "execution_count": null,
   "metadata": {},
   "outputs": [],
   "source": [
    "# 진짜 올웨더가 최선일까?\n",
    "# 움직이는 거..\n",
    "#https://m.blog.naver.com/anthouse28/221611131960"
   ]
  },
  {
   "cell_type": "code",
   "execution_count": null,
   "metadata": {},
   "outputs": [],
   "source": [
    "# 당신은 어떤 투자 성향입니까 ?\n",
    "# 공격, 중도, 안정 - 포트폴리오 퍼센트 정의 \n",
    "# 입력하면, 쫙"
   ]
  },
  {
   "cell_type": "code",
   "execution_count": null,
   "metadata": {},
   "outputs": [],
   "source": []
  },
  {
   "cell_type": "code",
   "execution_count": null,
   "metadata": {},
   "outputs": [],
   "source": []
  },
  {
   "cell_type": "code",
   "execution_count": null,
   "metadata": {},
   "outputs": [],
   "source": []
  },
  {
   "cell_type": "code",
   "execution_count": null,
   "metadata": {},
   "outputs": [],
   "source": []
  },
  {
   "cell_type": "code",
   "execution_count": null,
   "metadata": {},
   "outputs": [],
   "source": []
  },
  {
   "cell_type": "code",
   "execution_count": null,
   "metadata": {},
   "outputs": [],
   "source": []
  },
  {
   "cell_type": "code",
   "execution_count": null,
   "metadata": {},
   "outputs": [],
   "source": []
  },
  {
   "cell_type": "code",
   "execution_count": null,
   "metadata": {},
   "outputs": [],
   "source": []
  },
  {
   "cell_type": "code",
   "execution_count": null,
   "metadata": {},
   "outputs": [],
   "source": []
  },
  {
   "cell_type": "code",
   "execution_count": null,
   "metadata": {},
   "outputs": [],
   "source": []
  },
  {
   "cell_type": "code",
   "execution_count": null,
   "metadata": {},
   "outputs": [],
   "source": []
  },
  {
   "cell_type": "code",
   "execution_count": null,
   "metadata": {},
   "outputs": [],
   "source": []
  },
  {
   "cell_type": "code",
   "execution_count": null,
   "metadata": {},
   "outputs": [],
   "source": []
  },
  {
   "cell_type": "code",
   "execution_count": null,
   "metadata": {},
   "outputs": [],
   "source": []
  },
  {
   "cell_type": "code",
   "execution_count": null,
   "metadata": {},
   "outputs": [],
   "source": []
  },
  {
   "cell_type": "code",
   "execution_count": null,
   "metadata": {},
   "outputs": [],
   "source": []
  },
  {
   "cell_type": "code",
   "execution_count": null,
   "metadata": {},
   "outputs": [],
   "source": []
  },
  {
   "cell_type": "code",
   "execution_count": null,
   "metadata": {},
   "outputs": [],
   "source": []
  },
  {
   "cell_type": "code",
   "execution_count": null,
   "metadata": {},
   "outputs": [],
   "source": []
  },
  {
   "cell_type": "code",
   "execution_count": null,
   "metadata": {},
   "outputs": [],
   "source": []
  }
 ],
 "metadata": {
  "kernelspec": {
   "display_name": "Python 3",
   "language": "python",
   "name": "python3"
  },
  "language_info": {
   "codemirror_mode": {
    "name": "ipython",
    "version": 3
   },
   "file_extension": ".py",
   "mimetype": "text/x-python",
   "name": "python",
   "nbconvert_exporter": "python",
   "pygments_lexer": "ipython3",
   "version": "3.7.6"
  }
 },
 "nbformat": 4,
 "nbformat_minor": 4
}
