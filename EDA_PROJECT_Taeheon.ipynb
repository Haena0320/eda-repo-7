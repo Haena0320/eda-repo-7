{
 "cells": [
  {
   "cell_type": "markdown",
   "metadata": {},
   "source": [
    "# EDA PROJECT - 올웨더 포트폴리오의 백테스팅, 기대수익률, 위험도 분석"
   ]
  },
  {
   "cell_type": "markdown",
   "metadata": {},
   "source": [
    "### 1. 데이터 수집 \n",
    "- weekly data\n",
    "- Index Data(96.07.01 ~ 20.06.29)\n",
    "    - SP_Index(주식), Interm_Index(중기채), Long_Index(장기채), Commodity_Index(원자재), Gold_Index(금)\n",
    "- ETF Data(06.06.26 ~ 20.06.29)\n",
    "    - SPY(주식 ETF), IEF(중기채 ETF), TLT(장기채 ETF), DBC(원자재 ETF), GLD(금 ETF)"
   ]
  },
  {
   "cell_type": "code",
   "execution_count": 1,
   "metadata": {},
   "outputs": [
    {
     "data": {
      "text/html": [
       "<div>\n",
       "<style scoped>\n",
       "    .dataframe tbody tr th:only-of-type {\n",
       "        vertical-align: middle;\n",
       "    }\n",
       "\n",
       "    .dataframe tbody tr th {\n",
       "        vertical-align: top;\n",
       "    }\n",
       "\n",
       "    .dataframe thead th {\n",
       "        text-align: right;\n",
       "    }\n",
       "</style>\n",
       "<table border=\"1\" class=\"dataframe\">\n",
       "  <thead>\n",
       "    <tr style=\"text-align: right;\">\n",
       "      <th></th>\n",
       "      <th>Date</th>\n",
       "      <th>Open</th>\n",
       "      <th>High</th>\n",
       "      <th>Low</th>\n",
       "      <th>Close</th>\n",
       "      <th>Adj Close</th>\n",
       "      <th>Volume</th>\n",
       "    </tr>\n",
       "  </thead>\n",
       "  <tbody>\n",
       "    <tr>\n",
       "      <th>1251</th>\n",
       "      <td>2020-06-22</td>\n",
       "      <td>15.52</td>\n",
       "      <td>15.76</td>\n",
       "      <td>15.42</td>\n",
       "      <td>15.76</td>\n",
       "      <td>15.736941</td>\n",
       "      <td>0</td>\n",
       "    </tr>\n",
       "    <tr>\n",
       "      <th>1252</th>\n",
       "      <td>2020-06-29</td>\n",
       "      <td>15.72</td>\n",
       "      <td>15.72</td>\n",
       "      <td>15.72</td>\n",
       "      <td>15.72</td>\n",
       "      <td>15.697001</td>\n",
       "      <td>0</td>\n",
       "    </tr>\n",
       "  </tbody>\n",
       "</table>\n",
       "</div>"
      ],
      "text/plain": [
       "            Date   Open   High    Low  Close  Adj Close  Volume\n",
       "1251  2020-06-22  15.52  15.76  15.42  15.76  15.736941       0\n",
       "1252  2020-06-29  15.72  15.72  15.72  15.72  15.697001       0"
      ]
     },
     "execution_count": 1,
     "metadata": {},
     "output_type": "execute_result"
    }
   ],
   "source": [
    "# Index Data 수집\n",
    "\n",
    "SP_Index = pd.read_csv(\"S&P_Index.csv\")\n",
    "Gold_Index = pd.read_csv(\"Gold_Index.csv\")\n",
    "Commodity_Index = pd.read_csv(\"Commodity_Index.csv\")\n",
    "Interm_Index = pd.read_csv(\"Intermediate_Term_Bond_Index.csv\")\n",
    "Long_Index = pd.read_csv(\"Long_Term_Bond_Index.csv\")\n",
    "\n",
    "Long_Index.tail(2)"
   ]
  },
  {
   "cell_type": "markdown",
   "metadata": {},
   "source": [
    "#### Index 추종 포트폴리오 구성\n",
    "- Portfolio_1 : 주식 100%\n",
    "- Portfolio_2 : 주식 60% + 장기채 40%\n",
    "- Portfolio_3 : 주식 30% + 장기채 40% + 중기채 15% + 원자재 7.5% + 금 7.5%"
   ]
  },
  {
   "cell_type": "code",
   "execution_count": 2,
   "metadata": {},
   "outputs": [],
   "source": [
    "columns = [\"Date\", \"Close\"]\n",
    "\n",
    "SP_Index = SP_Index[columns].copy()\n",
    "Gold_Index = Gold_Index[columns].copy()\n",
    "Commodity_Index = Commodity_Index[columns].copy()\n",
    "Interm_Index = Interm_Index[columns].copy()\n",
    "Long_Index = Long_Index[columns].copy()"
   ]
  },
  {
   "cell_type": "code",
   "execution_count": 3,
   "metadata": {},
   "outputs": [
    {
     "data": {
      "text/plain": [
       "0        382\n",
       "1        384\n",
       "2        385\n",
       "3        386\n",
       "4        388\n",
       "        ... \n",
       "1248    1683\n",
       "1249    1737\n",
       "1250    1753\n",
       "1251    1780\n",
       "1252    1790\n",
       "Name: Close, Length: 1253, dtype: int64"
      ]
     },
     "execution_count": 3,
     "metadata": {},
     "output_type": "execute_result"
    }
   ],
   "source": [
    "Gold_Index[\"Close\"]"
   ]
  },
  {
   "cell_type": "code",
   "execution_count": 4,
   "metadata": {},
   "outputs": [],
   "source": [
    "Portfolio_1 = SP_Index[\"Close\"]\n",
    "Portfolio_2 = SP_Index[\"Close\"]*0.6 + Long_Index[\"Close\"]*0.4\n",
    "Portfolio_3 = SP_Index[\"Close\"]*0.3 + Long_Index[\"Close\"]*0.4 + Interm_Index[\"Close\"]*0.15 + Commodity_Index[\"Close\"]*0.075 + Gold_Index[\"Close\"]*0.075 "
   ]
  },
  {
   "cell_type": "markdown",
   "metadata": {},
   "source": [
    "### 2. 데이터 전처리"
   ]
  },
  {
   "cell_type": "code",
   "execution_count": null,
   "metadata": {},
   "outputs": [],
   "source": [
    "#1.\n",
    "# date, close 칼럼만 불러서 새로운 데이터 프레임 만듬.\n",
    "# date.copy() 쓸것\n",
    "\n",
    "#.2\n",
    "# 포트폴리오 3개 제작 (가격 비율이 아니라 구성/지수 비율임)\n",
    "# 1) SPX 100% \n",
    "# 2) SPX 60% + VUSTX 40% \n",
    "# 3) SPX 30% + VFITX 15% + VUSTX 40% + SPGSCI 7.5% + GOLD FURES 7.5%\n",
    "\n",
    "#all_weather_portfolio = data.frame()...\n"
   ]
  },
  {
   "cell_type": "code",
   "execution_count": null,
   "metadata": {},
   "outputs": [],
   "source": []
  },
  {
   "cell_type": "code",
   "execution_count": null,
   "metadata": {},
   "outputs": [],
   "source": [
    "df_1 = titanic[[\"Pclass\", \"Age\", \"SibSp\", \"Parch\", \"Fare\", \"Survived\"]]\n",
    "df_1.dropna(inplace=True)\n",
    "df_1.reset_index(drop=True, inplace=True)\n",
    "df_1.tail(2)"
   ]
  },
  {
   "cell_type": "code",
   "execution_count": 40,
   "metadata": {},
   "outputs": [],
   "source": [
    "# 데이터 전처리 - Date와 Close만 사용하고 Close는 Price로 변경\n",
    "\n",
    "\n"
   ]
  },
  {
   "cell_type": "markdown",
   "metadata": {},
   "source": [
    "### 3. 데이터 분석\n"
   ]
  },
  {
   "cell_type": "code",
   "execution_count": 43,
   "metadata": {},
   "outputs": [],
   "source": [
    "# back testing \n",
    "# train_test_spilt 로 트레인 시킬것"
   ]
  },
  {
   "cell_type": "markdown",
   "metadata": {},
   "source": [
    "#### 1) 기대수익률 (return)"
   ]
  },
  {
   "cell_type": "code",
   "execution_count": null,
   "metadata": {},
   "outputs": [],
   "source": [
    "# 기대 수익률, \n",
    "# https://m.blog.naver.com/PostView.nhn?blogId=anthouse28&logNo=221640874003&proxyReferer=https:%2F%2Fwww.google.com%2F\n"
   ]
  },
  {
   "cell_type": "markdown",
   "metadata": {},
   "source": [
    "#### 2) RISK \n",
    "##### 2-1) 변동성"
   ]
  },
  {
   "cell_type": "code",
   "execution_count": null,
   "metadata": {},
   "outputs": [],
   "source": [
    "#변동성(기대 수익률 표준편차) 분석 \n",
    "# 변동성이 적으면 안정적이다 ! 라는 결론 도출"
   ]
  },
  {
   "cell_type": "markdown",
   "metadata": {},
   "source": [
    "##### 2-2) 돈 잃을 가능성"
   ]
  },
  {
   "cell_type": "code",
   "execution_count": 44,
   "metadata": {},
   "outputs": [],
   "source": [
    "# 최악의 해(년단위), 최대 낙폭(주단위)"
   ]
  },
  {
   "cell_type": "code",
   "execution_count": 45,
   "metadata": {},
   "outputs": [],
   "source": [
    "#  지수와 상품간 correlation \n",
    "# 마지막에 상관관계 적용해서 99% 구하기 \n",
    "# 상관계수함수 쓰기\n",
    "\n",
    "# (마지막에 신뢰도 수정)"
   ]
  },
  {
   "cell_type": "markdown",
   "metadata": {},
   "source": [
    "### 4. 데이터 시각화"
   ]
  },
  {
   "cell_type": "code",
   "execution_count": null,
   "metadata": {},
   "outputs": [],
   "source": [
    "# 포트폴리오 구성 원그래프 "
   ]
  },
  {
   "cell_type": "code",
   "execution_count": null,
   "metadata": {},
   "outputs": [],
   "source": [
    "# (움직이는 그래프로)30년 백테스팅"
   ]
  },
  {
   "cell_type": "code",
   "execution_count": null,
   "metadata": {},
   "outputs": [],
   "source": [
    "# dataframe으로 포트폴리오 3개 비교하기 \n",
    "# no, 포트폴리오명, 최초금액, 최종금액, 30년간 수익률, 최고의 해, 최악의 해, 최대 낙폭, 상관관계\n",
    "# 상관관계 : 시장(s&p 500)과 포트폴리오와의 관계 -> 자산배분 잘되있다."
   ]
  },
  {
   "cell_type": "code",
   "execution_count": null,
   "metadata": {},
   "outputs": [],
   "source": [
    "# 상관관계 할때 hitmap "
   ]
  },
  {
   "cell_type": "code",
   "execution_count": null,
   "metadata": {},
   "outputs": [],
   "source": [
    "# 진짜 올웨더가 최선일까?\n",
    "# 움직이는 거..\n",
    "#https://m.blog.naver.com/anthouse28/221611131960"
   ]
  },
  {
   "cell_type": "code",
   "execution_count": null,
   "metadata": {},
   "outputs": [],
   "source": [
    "# 당신은 어떤 투자 성향입니까 ?\n",
    "# 공격, 중도, 안정 - 포트폴리오 퍼센트 정의 \n",
    "# 입력하면, 쫙"
   ]
  },
  {
   "cell_type": "code",
   "execution_count": null,
   "metadata": {},
   "outputs": [],
   "source": []
  },
  {
   "cell_type": "code",
   "execution_count": null,
   "metadata": {},
   "outputs": [],
   "source": []
  },
  {
   "cell_type": "code",
   "execution_count": 26,
   "metadata": {},
   "outputs": [],
   "source": [
    "# ETF data 수집\n",
    "# index data - 2006년 6월 26일 ~ 2020년 6월 30일\n",
    "\n",
    "SPY_ETF = pd.read_csv(\"SPY.csv\")\n",
    "Gld_ETF = pd.read_csv(\"Gld.csv\")\n",
    "DBC_ETF = pd.read_csv(\"DBC.csv\")\n",
    "IEF_ETF = pd.read_csv(\"IEF.csv\")\n",
    "TLT_ETF = pd.read_csv(\"TLT.csv\")\n",
    "# Close 를 Price로 바꾸기"
   ]
  },
  {
   "cell_type": "code",
   "execution_count": null,
   "metadata": {},
   "outputs": [],
   "source": []
  },
  {
   "cell_type": "code",
   "execution_count": null,
   "metadata": {},
   "outputs": [],
   "source": []
  },
  {
   "cell_type": "code",
   "execution_count": null,
   "metadata": {},
   "outputs": [],
   "source": []
  },
  {
   "cell_type": "code",
   "execution_count": null,
   "metadata": {},
   "outputs": [],
   "source": []
  },
  {
   "cell_type": "code",
   "execution_count": null,
   "metadata": {},
   "outputs": [],
   "source": []
  },
  {
   "cell_type": "code",
   "execution_count": null,
   "metadata": {},
   "outputs": [],
   "source": []
  },
  {
   "cell_type": "code",
   "execution_count": null,
   "metadata": {},
   "outputs": [],
   "source": []
  },
  {
   "cell_type": "code",
   "execution_count": null,
   "metadata": {},
   "outputs": [],
   "source": []
  },
  {
   "cell_type": "code",
   "execution_count": null,
   "metadata": {},
   "outputs": [],
   "source": []
  },
  {
   "cell_type": "code",
   "execution_count": null,
   "metadata": {},
   "outputs": [],
   "source": []
  },
  {
   "cell_type": "code",
   "execution_count": null,
   "metadata": {},
   "outputs": [],
   "source": []
  },
  {
   "cell_type": "code",
   "execution_count": null,
   "metadata": {},
   "outputs": [],
   "source": []
  },
  {
   "cell_type": "code",
   "execution_count": null,
   "metadata": {},
   "outputs": [],
   "source": []
  },
  {
   "cell_type": "code",
   "execution_count": null,
   "metadata": {},
   "outputs": [],
   "source": []
  },
  {
   "cell_type": "code",
   "execution_count": null,
   "metadata": {},
   "outputs": [],
   "source": []
  },
  {
   "cell_type": "code",
   "execution_count": null,
   "metadata": {},
   "outputs": [],
   "source": []
  },
  {
   "cell_type": "code",
   "execution_count": null,
   "metadata": {},
   "outputs": [],
   "source": []
  }
 ],
 "metadata": {
  "kernelspec": {
   "display_name": "Python 3",
   "language": "python",
   "name": "python3"
  },
  "language_info": {
   "codemirror_mode": {
    "name": "ipython",
    "version": 3
   },
   "file_extension": ".py",
   "mimetype": "text/x-python",
   "name": "python",
   "nbconvert_exporter": "python",
   "pygments_lexer": "ipython3",
   "version": "3.7.6"
  }
 },
 "nbformat": 4,
 "nbformat_minor": 4
}
